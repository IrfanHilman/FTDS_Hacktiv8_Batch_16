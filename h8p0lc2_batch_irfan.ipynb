{
  "nbformat": 4,
  "nbformat_minor": 0,
  "metadata": {
    "colab": {
      "provenance": [],
      "collapsed_sections": [],
      "authorship_tag": "ABX9TyPxGBcylKemuujonJ+nqoje",
      "include_colab_link": true
    },
    "kernelspec": {
      "name": "python3",
      "display_name": "Python 3"
    },
    "language_info": {
      "name": "python"
    }
  },
  "cells": [
    {
      "cell_type": "markdown",
      "metadata": {
        "id": "view-in-github",
        "colab_type": "text"
      },
      "source": [
        "<a href=\"https://colab.research.google.com/github/IrfanHilman/FTDS_Hacktiv8_Batch_16/blob/main/h8p0lc2_batch_irfan.ipynb\" target=\"_parent\"><img src=\"https://colab.research.google.com/assets/colab-badge.svg\" alt=\"Open In Colab\"/></a>"
      ]
    },
    {
      "cell_type": "markdown",
      "source": [
        "# Problem 1"
      ],
      "metadata": {
        "id": "85Oxa-7h5tnT"
      }
    },
    {
      "cell_type": "code",
      "execution_count": 13,
      "metadata": {
        "id": "2UmvaZJf0ATV"
      },
      "outputs": [],
      "source": [
        "#Import library numpy sebagai np dan pandas sebagai pf\n",
        "import numpy as np\n",
        "import pandas as pd"
      ]
    },
    {
      "cell_type": "code",
      "source": [
        "#Buat variabel harga Rumah 1 dan Rumah 2\n",
        "harga_rumah1 = 800000000\n",
        "harga_rumah2 = 600000000\n",
        "\n",
        "#Buat vektor Rumah 1 dan Rumah 2 menggunakan numpy dan tipe data array\n",
        "rumah1 = np.array([100,240,3,1,1,0,1,1])\n",
        "rumah2 = np.array([120,200,2,1,1,1,1,1])"
      ],
      "metadata": {
        "id": "afKhwRyQ0KqL"
      },
      "execution_count": 11,
      "outputs": []
    },
    {
      "cell_type": "code",
      "source": [
        "#Hitung nilai dot product dan cosine similarity dari Rumah 1 dan Rumah 2\n",
        "dot_product = rumah1 @ rumah2\n",
        "cosine_sim = dot_product/(np.linalg.norm(rumah1)*np.linalg.norm(rumah2))\n",
        "print('Dot product:', dot_product)\n",
        "print('Cosine similarity:', cosine_sim)"
      ],
      "metadata": {
        "colab": {
          "base_uri": "https://localhost:8080/"
        },
        "id": "wOt3nUcb1BW-",
        "outputId": "07242a14-a741-4c2a-c7ab-1c199daed82b"
      },
      "execution_count": 12,
      "outputs": [
        {
          "output_type": "stream",
          "name": "stdout",
          "text": [
            "Dot product: 60010\n",
            "Cosine similarity: 0.9894028379856452\n"
          ]
        }
      ]
    },
    {
      "cell_type": "markdown",
      "source": [
        "Jawaban Soal:\n",
        "\n",
        "a. Berdasarkan nilai cosine similarity-nya, Rumah 1 dan Rumah 2 memiliki 98.94% kemiripan. Sehingga rumah yang seharusnya dibeli adalah Rumah 2 karena harganya lebih murah tetapi memiliki kualitas yang mirip dengan Rumah 1.\n",
        "\n",
        "b. Berdasarkan definisinya, cos-1(0)= 90 derajat dan cos-1(1)= 0 derajat. Jadi jika vektor A dan B memiliki nilai cosine similarity mendekati 0, maka vektor A dan B akan tegak lurus satu sama lain di koordinat kartesian. Sebaliknya, jika vektor A dan B memiliki nilai cosine similarity mendekati 1, maka vektor A dan B akan sejajar dan searah satu sama lain, dengan kata lain, vektor A dan B memiliki kemiripan lebih tinggi.\n",
        "\n",
        "c. Cosine similarity melibatkan vektor, bukan matrix, karena konsepnya mengukur kemiripan arah vektor dalam 2 dimensi sedangakan matrix melebihi 2 dimensi."
      ],
      "metadata": {
        "id": "WOFTZMRt2FL5"
      }
    },
    {
      "cell_type": "markdown",
      "source": [
        "# Problem 2\n",
        "\n"
      ],
      "metadata": {
        "id": "G-igWork5xnj"
      }
    },
    {
      "cell_type": "markdown",
      "source": [
        "Code yang digunakan untuk melakukan query dari Google Cloud adalah:\n",
        "\n",
        "SELECT price\n",
        "\n",
        "FROM bigquery-public-data.properati_properties_ar.properties_rent_201501\n",
        "\n",
        "WHERE operation = 'rent'\n",
        "\n",
        "AND property_type = 'apartment'"
      ],
      "metadata": {
        "id": "vHXk-E-w--Zn"
      }
    },
    {
      "cell_type": "code",
      "source": [
        "#Call data properties yang telah di-upload ke github. Assign data ke variabel df\n",
        "df = pd.read_csv('https://github.com/IrfanHilman/FTDS_Hacktiv8_Batch_16/blob/main/h8dsft_P0LC3_Muhammad%20Irfan_Hilman.csv?raw=true')"
      ],
      "metadata": {
        "id": "nJ253ig39axQ"
      },
      "execution_count": 55,
      "outputs": []
    },
    {
      "cell_type": "code",
      "source": [
        "#Tampilkan 5 baris data teratas\n",
        "df.head()"
      ],
      "metadata": {
        "colab": {
          "base_uri": "https://localhost:8080/",
          "height": 206
        },
        "id": "OVmwlSwO_GDU",
        "outputId": "5f90dbb9-0540-44ef-9f9a-b98faf56c900"
      },
      "execution_count": 56,
      "outputs": [
        {
          "output_type": "execute_result",
          "data": {
            "text/plain": [
              "   price\n",
              "0   2500\n",
              "1   3500\n",
              "2   2850\n",
              "3   1850\n",
              "4   1000"
            ],
            "text/html": [
              "\n",
              "  <div id=\"df-49c5b0e0-b9d6-4b86-b773-bf3c8591f954\">\n",
              "    <div class=\"colab-df-container\">\n",
              "      <div>\n",
              "<style scoped>\n",
              "    .dataframe tbody tr th:only-of-type {\n",
              "        vertical-align: middle;\n",
              "    }\n",
              "\n",
              "    .dataframe tbody tr th {\n",
              "        vertical-align: top;\n",
              "    }\n",
              "\n",
              "    .dataframe thead th {\n",
              "        text-align: right;\n",
              "    }\n",
              "</style>\n",
              "<table border=\"1\" class=\"dataframe\">\n",
              "  <thead>\n",
              "    <tr style=\"text-align: right;\">\n",
              "      <th></th>\n",
              "      <th>price</th>\n",
              "    </tr>\n",
              "  </thead>\n",
              "  <tbody>\n",
              "    <tr>\n",
              "      <th>0</th>\n",
              "      <td>2500</td>\n",
              "    </tr>\n",
              "    <tr>\n",
              "      <th>1</th>\n",
              "      <td>3500</td>\n",
              "    </tr>\n",
              "    <tr>\n",
              "      <th>2</th>\n",
              "      <td>2850</td>\n",
              "    </tr>\n",
              "    <tr>\n",
              "      <th>3</th>\n",
              "      <td>1850</td>\n",
              "    </tr>\n",
              "    <tr>\n",
              "      <th>4</th>\n",
              "      <td>1000</td>\n",
              "    </tr>\n",
              "  </tbody>\n",
              "</table>\n",
              "</div>\n",
              "      <button class=\"colab-df-convert\" onclick=\"convertToInteractive('df-49c5b0e0-b9d6-4b86-b773-bf3c8591f954')\"\n",
              "              title=\"Convert this dataframe to an interactive table.\"\n",
              "              style=\"display:none;\">\n",
              "        \n",
              "  <svg xmlns=\"http://www.w3.org/2000/svg\" height=\"24px\"viewBox=\"0 0 24 24\"\n",
              "       width=\"24px\">\n",
              "    <path d=\"M0 0h24v24H0V0z\" fill=\"none\"/>\n",
              "    <path d=\"M18.56 5.44l.94 2.06.94-2.06 2.06-.94-2.06-.94-.94-2.06-.94 2.06-2.06.94zm-11 1L8.5 8.5l.94-2.06 2.06-.94-2.06-.94L8.5 2.5l-.94 2.06-2.06.94zm10 10l.94 2.06.94-2.06 2.06-.94-2.06-.94-.94-2.06-.94 2.06-2.06.94z\"/><path d=\"M17.41 7.96l-1.37-1.37c-.4-.4-.92-.59-1.43-.59-.52 0-1.04.2-1.43.59L10.3 9.45l-7.72 7.72c-.78.78-.78 2.05 0 2.83L4 21.41c.39.39.9.59 1.41.59.51 0 1.02-.2 1.41-.59l7.78-7.78 2.81-2.81c.8-.78.8-2.07 0-2.86zM5.41 20L4 18.59l7.72-7.72 1.47 1.35L5.41 20z\"/>\n",
              "  </svg>\n",
              "      </button>\n",
              "      \n",
              "  <style>\n",
              "    .colab-df-container {\n",
              "      display:flex;\n",
              "      flex-wrap:wrap;\n",
              "      gap: 12px;\n",
              "    }\n",
              "\n",
              "    .colab-df-convert {\n",
              "      background-color: #E8F0FE;\n",
              "      border: none;\n",
              "      border-radius: 50%;\n",
              "      cursor: pointer;\n",
              "      display: none;\n",
              "      fill: #1967D2;\n",
              "      height: 32px;\n",
              "      padding: 0 0 0 0;\n",
              "      width: 32px;\n",
              "    }\n",
              "\n",
              "    .colab-df-convert:hover {\n",
              "      background-color: #E2EBFA;\n",
              "      box-shadow: 0px 1px 2px rgba(60, 64, 67, 0.3), 0px 1px 3px 1px rgba(60, 64, 67, 0.15);\n",
              "      fill: #174EA6;\n",
              "    }\n",
              "\n",
              "    [theme=dark] .colab-df-convert {\n",
              "      background-color: #3B4455;\n",
              "      fill: #D2E3FC;\n",
              "    }\n",
              "\n",
              "    [theme=dark] .colab-df-convert:hover {\n",
              "      background-color: #434B5C;\n",
              "      box-shadow: 0px 1px 3px 1px rgba(0, 0, 0, 0.15);\n",
              "      filter: drop-shadow(0px 1px 2px rgba(0, 0, 0, 0.3));\n",
              "      fill: #FFFFFF;\n",
              "    }\n",
              "  </style>\n",
              "\n",
              "      <script>\n",
              "        const buttonEl =\n",
              "          document.querySelector('#df-49c5b0e0-b9d6-4b86-b773-bf3c8591f954 button.colab-df-convert');\n",
              "        buttonEl.style.display =\n",
              "          google.colab.kernel.accessAllowed ? 'block' : 'none';\n",
              "\n",
              "        async function convertToInteractive(key) {\n",
              "          const element = document.querySelector('#df-49c5b0e0-b9d6-4b86-b773-bf3c8591f954');\n",
              "          const dataTable =\n",
              "            await google.colab.kernel.invokeFunction('convertToInteractive',\n",
              "                                                     [key], {});\n",
              "          if (!dataTable) return;\n",
              "\n",
              "          const docLinkHtml = 'Like what you see? Visit the ' +\n",
              "            '<a target=\"_blank\" href=https://colab.research.google.com/notebooks/data_table.ipynb>data table notebook</a>'\n",
              "            + ' to learn more about interactive tables.';\n",
              "          element.innerHTML = '';\n",
              "          dataTable['output_type'] = 'display_data';\n",
              "          await google.colab.output.renderOutput(dataTable, element);\n",
              "          const docLink = document.createElement('div');\n",
              "          docLink.innerHTML = docLinkHtml;\n",
              "          element.appendChild(docLink);\n",
              "        }\n",
              "      </script>\n",
              "    </div>\n",
              "  </div>\n",
              "  "
            ]
          },
          "metadata": {},
          "execution_count": 56
        }
      ]
    },
    {
      "cell_type": "code",
      "source": [
        "#Tampilkan 5 baris data terbawah\n",
        "df.tail()"
      ],
      "metadata": {
        "colab": {
          "base_uri": "https://localhost:8080/",
          "height": 206
        },
        "id": "HN1OpCI8_IPR",
        "outputId": "ebe44d96-c796-407e-d35b-a821666c18a8"
      },
      "execution_count": 57,
      "outputs": [
        {
          "output_type": "execute_result",
          "data": {
            "text/plain": [
              "      price\n",
              "1653    500\n",
              "1654    500\n",
              "1655    500\n",
              "1656    500\n",
              "1657    500"
            ],
            "text/html": [
              "\n",
              "  <div id=\"df-51598a36-9e06-45c8-b1e6-25d919b4eb15\">\n",
              "    <div class=\"colab-df-container\">\n",
              "      <div>\n",
              "<style scoped>\n",
              "    .dataframe tbody tr th:only-of-type {\n",
              "        vertical-align: middle;\n",
              "    }\n",
              "\n",
              "    .dataframe tbody tr th {\n",
              "        vertical-align: top;\n",
              "    }\n",
              "\n",
              "    .dataframe thead th {\n",
              "        text-align: right;\n",
              "    }\n",
              "</style>\n",
              "<table border=\"1\" class=\"dataframe\">\n",
              "  <thead>\n",
              "    <tr style=\"text-align: right;\">\n",
              "      <th></th>\n",
              "      <th>price</th>\n",
              "    </tr>\n",
              "  </thead>\n",
              "  <tbody>\n",
              "    <tr>\n",
              "      <th>1653</th>\n",
              "      <td>500</td>\n",
              "    </tr>\n",
              "    <tr>\n",
              "      <th>1654</th>\n",
              "      <td>500</td>\n",
              "    </tr>\n",
              "    <tr>\n",
              "      <th>1655</th>\n",
              "      <td>500</td>\n",
              "    </tr>\n",
              "    <tr>\n",
              "      <th>1656</th>\n",
              "      <td>500</td>\n",
              "    </tr>\n",
              "    <tr>\n",
              "      <th>1657</th>\n",
              "      <td>500</td>\n",
              "    </tr>\n",
              "  </tbody>\n",
              "</table>\n",
              "</div>\n",
              "      <button class=\"colab-df-convert\" onclick=\"convertToInteractive('df-51598a36-9e06-45c8-b1e6-25d919b4eb15')\"\n",
              "              title=\"Convert this dataframe to an interactive table.\"\n",
              "              style=\"display:none;\">\n",
              "        \n",
              "  <svg xmlns=\"http://www.w3.org/2000/svg\" height=\"24px\"viewBox=\"0 0 24 24\"\n",
              "       width=\"24px\">\n",
              "    <path d=\"M0 0h24v24H0V0z\" fill=\"none\"/>\n",
              "    <path d=\"M18.56 5.44l.94 2.06.94-2.06 2.06-.94-2.06-.94-.94-2.06-.94 2.06-2.06.94zm-11 1L8.5 8.5l.94-2.06 2.06-.94-2.06-.94L8.5 2.5l-.94 2.06-2.06.94zm10 10l.94 2.06.94-2.06 2.06-.94-2.06-.94-.94-2.06-.94 2.06-2.06.94z\"/><path d=\"M17.41 7.96l-1.37-1.37c-.4-.4-.92-.59-1.43-.59-.52 0-1.04.2-1.43.59L10.3 9.45l-7.72 7.72c-.78.78-.78 2.05 0 2.83L4 21.41c.39.39.9.59 1.41.59.51 0 1.02-.2 1.41-.59l7.78-7.78 2.81-2.81c.8-.78.8-2.07 0-2.86zM5.41 20L4 18.59l7.72-7.72 1.47 1.35L5.41 20z\"/>\n",
              "  </svg>\n",
              "      </button>\n",
              "      \n",
              "  <style>\n",
              "    .colab-df-container {\n",
              "      display:flex;\n",
              "      flex-wrap:wrap;\n",
              "      gap: 12px;\n",
              "    }\n",
              "\n",
              "    .colab-df-convert {\n",
              "      background-color: #E8F0FE;\n",
              "      border: none;\n",
              "      border-radius: 50%;\n",
              "      cursor: pointer;\n",
              "      display: none;\n",
              "      fill: #1967D2;\n",
              "      height: 32px;\n",
              "      padding: 0 0 0 0;\n",
              "      width: 32px;\n",
              "    }\n",
              "\n",
              "    .colab-df-convert:hover {\n",
              "      background-color: #E2EBFA;\n",
              "      box-shadow: 0px 1px 2px rgba(60, 64, 67, 0.3), 0px 1px 3px 1px rgba(60, 64, 67, 0.15);\n",
              "      fill: #174EA6;\n",
              "    }\n",
              "\n",
              "    [theme=dark] .colab-df-convert {\n",
              "      background-color: #3B4455;\n",
              "      fill: #D2E3FC;\n",
              "    }\n",
              "\n",
              "    [theme=dark] .colab-df-convert:hover {\n",
              "      background-color: #434B5C;\n",
              "      box-shadow: 0px 1px 3px 1px rgba(0, 0, 0, 0.15);\n",
              "      filter: drop-shadow(0px 1px 2px rgba(0, 0, 0, 0.3));\n",
              "      fill: #FFFFFF;\n",
              "    }\n",
              "  </style>\n",
              "\n",
              "      <script>\n",
              "        const buttonEl =\n",
              "          document.querySelector('#df-51598a36-9e06-45c8-b1e6-25d919b4eb15 button.colab-df-convert');\n",
              "        buttonEl.style.display =\n",
              "          google.colab.kernel.accessAllowed ? 'block' : 'none';\n",
              "\n",
              "        async function convertToInteractive(key) {\n",
              "          const element = document.querySelector('#df-51598a36-9e06-45c8-b1e6-25d919b4eb15');\n",
              "          const dataTable =\n",
              "            await google.colab.kernel.invokeFunction('convertToInteractive',\n",
              "                                                     [key], {});\n",
              "          if (!dataTable) return;\n",
              "\n",
              "          const docLinkHtml = 'Like what you see? Visit the ' +\n",
              "            '<a target=\"_blank\" href=https://colab.research.google.com/notebooks/data_table.ipynb>data table notebook</a>'\n",
              "            + ' to learn more about interactive tables.';\n",
              "          element.innerHTML = '';\n",
              "          dataTable['output_type'] = 'display_data';\n",
              "          await google.colab.output.renderOutput(dataTable, element);\n",
              "          const docLink = document.createElement('div');\n",
              "          docLink.innerHTML = docLinkHtml;\n",
              "          element.appendChild(docLink);\n",
              "        }\n",
              "      </script>\n",
              "    </div>\n",
              "  </div>\n",
              "  "
            ]
          },
          "metadata": {},
          "execution_count": 57
        }
      ]
    },
    {
      "cell_type": "markdown",
      "source": [
        "1. Perhitungan central tendency (mean, median, modus) sebelum adanya data anomaly"
      ],
      "metadata": {
        "id": "Cm0jM36P_Ni3"
      }
    },
    {
      "cell_type": "code",
      "source": [
        "#Hitung mean dari data price\n",
        "mean = df.price.mean()\n",
        "print('Mean dari data price adalah:', mean)"
      ],
      "metadata": {
        "colab": {
          "base_uri": "https://localhost:8080/"
        },
        "id": "W2XMJ5S7_dhp",
        "outputId": "0542c7e5-bce2-4ca4-e8dd-def36a352451"
      },
      "execution_count": 58,
      "outputs": [
        {
          "output_type": "stream",
          "name": "stdout",
          "text": [
            "Mean dari data price adalah: 5166.355247285886\n"
          ]
        }
      ]
    },
    {
      "cell_type": "code",
      "source": [
        "#Hitung median dari data price\n",
        "median = df.price.median()\n",
        "print('Median dari data price adalah:', median)"
      ],
      "metadata": {
        "colab": {
          "base_uri": "https://localhost:8080/"
        },
        "id": "1yD2eH2q_o__",
        "outputId": "c7050f01-e308-4890-b825-a59694f68329"
      },
      "execution_count": 59,
      "outputs": [
        {
          "output_type": "stream",
          "name": "stdout",
          "text": [
            "Median dari data price adalah: 2700.0\n"
          ]
        }
      ]
    },
    {
      "cell_type": "code",
      "source": [
        "#Hitung modus dari data price\n",
        "modus = df.price.mode()\n",
        "modus = np.array(modus)\n",
        "print('Modus dari data price adalah: %s' % str(modus[0]))"
      ],
      "metadata": {
        "colab": {
          "base_uri": "https://localhost:8080/"
        },
        "id": "tULWBrcu_t3M",
        "outputId": "66e09555-9227-47f2-d2e8-9bb1e620a9a8"
      },
      "execution_count": 60,
      "outputs": [
        {
          "output_type": "stream",
          "name": "stdout",
          "text": [
            "Modus dari data price adalah: 0\n"
          ]
        }
      ]
    },
    {
      "cell_type": "markdown",
      "source": [
        "2. Check skewness data untuk mengetahui apakah datanya terdistribusi normal atau tidak"
      ],
      "metadata": {
        "id": "o-Was5iOBdRt"
      }
    },
    {
      "cell_type": "code",
      "source": [
        "#Hitung skewness dari data price\n",
        "skewness = df.price.skew()\n",
        "print('Skewness dari data price adalah:', skewness)"
      ],
      "metadata": {
        "colab": {
          "base_uri": "https://localhost:8080/"
        },
        "id": "HygoS8I8Bjw0",
        "outputId": "13b6681a-499e-4a3c-d6af-7d738ce29fd9"
      },
      "execution_count": 61,
      "outputs": [
        {
          "output_type": "stream",
          "name": "stdout",
          "text": [
            "Skewness dari data price adalah: 4.2401362864090695\n"
          ]
        }
      ]
    },
    {
      "cell_type": "markdown",
      "source": [
        "Karena skewness dari data adalah positif (4.24), maka distribusi data adalah positive skewness dengan nilai mean (5166) lebih besar daripada median (2700)"
      ],
      "metadata": {
        "id": "6-DKZG0kB8vj"
      }
    },
    {
      "cell_type": "markdown",
      "source": [
        "3. Extreme Value Analysis\n",
        "\n",
        "Analisa menggunakan Tukey's rule karena distibusi data adalah positive skewness"
      ],
      "metadata": {
        "id": "byILGjAaDHxX"
      }
    },
    {
      "cell_type": "code",
      "source": [
        "#Hitung Q1 (25th quantile), Q2 (50th quantile) dan Q3(75th quantile) dari data price\n",
        "price = df.price\n",
        "quartiles = np.percentile(price, [25, 50, 75])\n",
        "Q1 = quartiles[0]\n",
        "Q2 = quartiles[1]\n",
        "Q3 = quartiles[2]\n",
        "print('25th quantile adalah:', Q1)\n",
        "print('50th quantile adalah:', Q2)\n",
        "print('75th quantile adalah:', Q3)"
      ],
      "metadata": {
        "colab": {
          "base_uri": "https://localhost:8080/"
        },
        "id": "139Q7B4DDLMX",
        "outputId": "0884c98b-d64d-410f-c586-cc57bc468549"
      },
      "execution_count": 62,
      "outputs": [
        {
          "output_type": "stream",
          "name": "stdout",
          "text": [
            "25th quantile adalah: 0.0\n",
            "50th quantile adalah: 2700.0\n",
            "75th quantile adalah: 5500.0\n"
          ]
        }
      ]
    },
    {
      "cell_type": "code",
      "source": [
        "#Hitung IQR = Q3-Q1\n",
        "IQR = Q3-Q1\n",
        "IQR"
      ],
      "metadata": {
        "colab": {
          "base_uri": "https://localhost:8080/"
        },
        "id": "TYiRa0CuEQf5",
        "outputId": "610cee16-1635-40ac-ad48-7733988cc00b"
      },
      "execution_count": 71,
      "outputs": [
        {
          "output_type": "execute_result",
          "data": {
            "text/plain": [
              "5500.0"
            ]
          },
          "metadata": {},
          "execution_count": 71
        }
      ]
    },
    {
      "cell_type": "code",
      "source": [
        "#Hitung nilai batas atas Tukey dalam variabel Tukey_upper\n",
        "Tukey_upper = Q3 + (1.5*IQR)\n",
        "print('Tukey upper:', Tukey_upper)\n",
        "\n",
        "#Hitung nilai batas bawah Tukey dalam variabel Tukey_lower\n",
        "Tukey_lower = Q1 - (1.5*IQR)\n",
        "print('Tukey lower:', Tukey_lower)"
      ],
      "metadata": {
        "colab": {
          "base_uri": "https://localhost:8080/"
        },
        "id": "Dske9NdpFM2v",
        "outputId": "b37218f4-ed69-4e79-8a04-edb7f1125833"
      },
      "execution_count": 72,
      "outputs": [
        {
          "output_type": "stream",
          "name": "stdout",
          "text": [
            "Tukey upper: 13750.0\n",
            "Tukey lower: -8250.0\n"
          ]
        }
      ]
    },
    {
      "cell_type": "markdown",
      "source": [
        "4. Buat variabel baru 'df_no_outliers' yang berisi data tanpa outliers berdasarkan Tukey's rule"
      ],
      "metadata": {
        "id": "SuNOiRQsGTfJ"
      }
    },
    {
      "cell_type": "code",
      "source": [
        "#Buat variabel 'df_no_outliers' berisi data tanpa outliers\n",
        "df_no_outliers = df[(df['price']<13750) & (df['price']>-8250)]\n",
        "df_no_outliers"
      ],
      "metadata": {
        "colab": {
          "base_uri": "https://localhost:8080/",
          "height": 424
        },
        "id": "ShwjCA2sFkoo",
        "outputId": "bc73682c-023c-4ea9-c86f-6c4d0983e719"
      },
      "execution_count": 70,
      "outputs": [
        {
          "output_type": "execute_result",
          "data": {
            "text/plain": [
              "      price\n",
              "0      2500\n",
              "1      3500\n",
              "2      2850\n",
              "3      1850\n",
              "4      1000\n",
              "...     ...\n",
              "1653    500\n",
              "1654    500\n",
              "1655    500\n",
              "1656    500\n",
              "1657    500\n",
              "\n",
              "[1500 rows x 1 columns]"
            ],
            "text/html": [
              "\n",
              "  <div id=\"df-38a61697-f7fb-49bb-956a-4dab5a91f144\">\n",
              "    <div class=\"colab-df-container\">\n",
              "      <div>\n",
              "<style scoped>\n",
              "    .dataframe tbody tr th:only-of-type {\n",
              "        vertical-align: middle;\n",
              "    }\n",
              "\n",
              "    .dataframe tbody tr th {\n",
              "        vertical-align: top;\n",
              "    }\n",
              "\n",
              "    .dataframe thead th {\n",
              "        text-align: right;\n",
              "    }\n",
              "</style>\n",
              "<table border=\"1\" class=\"dataframe\">\n",
              "  <thead>\n",
              "    <tr style=\"text-align: right;\">\n",
              "      <th></th>\n",
              "      <th>price</th>\n",
              "    </tr>\n",
              "  </thead>\n",
              "  <tbody>\n",
              "    <tr>\n",
              "      <th>0</th>\n",
              "      <td>2500</td>\n",
              "    </tr>\n",
              "    <tr>\n",
              "      <th>1</th>\n",
              "      <td>3500</td>\n",
              "    </tr>\n",
              "    <tr>\n",
              "      <th>2</th>\n",
              "      <td>2850</td>\n",
              "    </tr>\n",
              "    <tr>\n",
              "      <th>3</th>\n",
              "      <td>1850</td>\n",
              "    </tr>\n",
              "    <tr>\n",
              "      <th>4</th>\n",
              "      <td>1000</td>\n",
              "    </tr>\n",
              "    <tr>\n",
              "      <th>...</th>\n",
              "      <td>...</td>\n",
              "    </tr>\n",
              "    <tr>\n",
              "      <th>1653</th>\n",
              "      <td>500</td>\n",
              "    </tr>\n",
              "    <tr>\n",
              "      <th>1654</th>\n",
              "      <td>500</td>\n",
              "    </tr>\n",
              "    <tr>\n",
              "      <th>1655</th>\n",
              "      <td>500</td>\n",
              "    </tr>\n",
              "    <tr>\n",
              "      <th>1656</th>\n",
              "      <td>500</td>\n",
              "    </tr>\n",
              "    <tr>\n",
              "      <th>1657</th>\n",
              "      <td>500</td>\n",
              "    </tr>\n",
              "  </tbody>\n",
              "</table>\n",
              "<p>1500 rows × 1 columns</p>\n",
              "</div>\n",
              "      <button class=\"colab-df-convert\" onclick=\"convertToInteractive('df-38a61697-f7fb-49bb-956a-4dab5a91f144')\"\n",
              "              title=\"Convert this dataframe to an interactive table.\"\n",
              "              style=\"display:none;\">\n",
              "        \n",
              "  <svg xmlns=\"http://www.w3.org/2000/svg\" height=\"24px\"viewBox=\"0 0 24 24\"\n",
              "       width=\"24px\">\n",
              "    <path d=\"M0 0h24v24H0V0z\" fill=\"none\"/>\n",
              "    <path d=\"M18.56 5.44l.94 2.06.94-2.06 2.06-.94-2.06-.94-.94-2.06-.94 2.06-2.06.94zm-11 1L8.5 8.5l.94-2.06 2.06-.94-2.06-.94L8.5 2.5l-.94 2.06-2.06.94zm10 10l.94 2.06.94-2.06 2.06-.94-2.06-.94-.94-2.06-.94 2.06-2.06.94z\"/><path d=\"M17.41 7.96l-1.37-1.37c-.4-.4-.92-.59-1.43-.59-.52 0-1.04.2-1.43.59L10.3 9.45l-7.72 7.72c-.78.78-.78 2.05 0 2.83L4 21.41c.39.39.9.59 1.41.59.51 0 1.02-.2 1.41-.59l7.78-7.78 2.81-2.81c.8-.78.8-2.07 0-2.86zM5.41 20L4 18.59l7.72-7.72 1.47 1.35L5.41 20z\"/>\n",
              "  </svg>\n",
              "      </button>\n",
              "      \n",
              "  <style>\n",
              "    .colab-df-container {\n",
              "      display:flex;\n",
              "      flex-wrap:wrap;\n",
              "      gap: 12px;\n",
              "    }\n",
              "\n",
              "    .colab-df-convert {\n",
              "      background-color: #E8F0FE;\n",
              "      border: none;\n",
              "      border-radius: 50%;\n",
              "      cursor: pointer;\n",
              "      display: none;\n",
              "      fill: #1967D2;\n",
              "      height: 32px;\n",
              "      padding: 0 0 0 0;\n",
              "      width: 32px;\n",
              "    }\n",
              "\n",
              "    .colab-df-convert:hover {\n",
              "      background-color: #E2EBFA;\n",
              "      box-shadow: 0px 1px 2px rgba(60, 64, 67, 0.3), 0px 1px 3px 1px rgba(60, 64, 67, 0.15);\n",
              "      fill: #174EA6;\n",
              "    }\n",
              "\n",
              "    [theme=dark] .colab-df-convert {\n",
              "      background-color: #3B4455;\n",
              "      fill: #D2E3FC;\n",
              "    }\n",
              "\n",
              "    [theme=dark] .colab-df-convert:hover {\n",
              "      background-color: #434B5C;\n",
              "      box-shadow: 0px 1px 3px 1px rgba(0, 0, 0, 0.15);\n",
              "      filter: drop-shadow(0px 1px 2px rgba(0, 0, 0, 0.3));\n",
              "      fill: #FFFFFF;\n",
              "    }\n",
              "  </style>\n",
              "\n",
              "      <script>\n",
              "        const buttonEl =\n",
              "          document.querySelector('#df-38a61697-f7fb-49bb-956a-4dab5a91f144 button.colab-df-convert');\n",
              "        buttonEl.style.display =\n",
              "          google.colab.kernel.accessAllowed ? 'block' : 'none';\n",
              "\n",
              "        async function convertToInteractive(key) {\n",
              "          const element = document.querySelector('#df-38a61697-f7fb-49bb-956a-4dab5a91f144');\n",
              "          const dataTable =\n",
              "            await google.colab.kernel.invokeFunction('convertToInteractive',\n",
              "                                                     [key], {});\n",
              "          if (!dataTable) return;\n",
              "\n",
              "          const docLinkHtml = 'Like what you see? Visit the ' +\n",
              "            '<a target=\"_blank\" href=https://colab.research.google.com/notebooks/data_table.ipynb>data table notebook</a>'\n",
              "            + ' to learn more about interactive tables.';\n",
              "          element.innerHTML = '';\n",
              "          dataTable['output_type'] = 'display_data';\n",
              "          await google.colab.output.renderOutput(dataTable, element);\n",
              "          const docLink = document.createElement('div');\n",
              "          docLink.innerHTML = docLinkHtml;\n",
              "          element.appendChild(docLink);\n",
              "        }\n",
              "      </script>\n",
              "    </div>\n",
              "  </div>\n",
              "  "
            ]
          },
          "metadata": {},
          "execution_count": 70
        }
      ]
    },
    {
      "cell_type": "code",
      "source": [
        "#Hitung skewness pada data tanpa outliers\n",
        "skewness_no_outliers = df_no_outliers.price.skew()\n",
        "print('Nilai skewness data tanpa outliers adalah:', skewness_no_outliers)"
      ],
      "metadata": {
        "colab": {
          "base_uri": "https://localhost:8080/"
        },
        "id": "W1IefUz3IPtH",
        "outputId": "89c5533f-d3de-4d0e-d1f4-35d1555e79dd"
      },
      "execution_count": 73,
      "outputs": [
        {
          "output_type": "stream",
          "name": "stdout",
          "text": [
            "Nilai skewness data tanpa outliers adalah: 1.3384880750664294\n"
          ]
        }
      ]
    },
    {
      "cell_type": "markdown",
      "source": [
        "Jawaban Soal:\n",
        "\n",
        "1. Sebelum dihilangkan outliers-nya, nilai rata-rata price adalah 5166, nilai median price adalah 2700 dan nilai modus price adalah 0. Kecenderungan pemusatan datanya adalah positive skewness dengan nilai skewness 4.24. Positive skewness ditandai dengan nilai mean > nilai median.\n",
        "\n",
        "2. Setelah melakukan Extreme Value Analysis (EVA) atau penghilangan data outliers, nilai skewness data berkurang menjadi 1.34484. Artinya kecenderungan pemusatan datanya mendekati bentuk distribusi normal, dibandingkan sebelumnya, karena pada distribusi normal, skewness mendekati 0.\n",
        "\n",
        "3. Terdapat 2 teknik dalam EVA: Tukey's rule dan Z-score. Jika distribusi data tidak normal (skew), Tukey's rule dapat digunakan. Kriteria data outliers pada Tukey's rule adalah data berada diatas Q3 + 1.5*IQR dan dibawah Q1 - 1.5*IQR dengan IQR = Q3-Q1. Sebaliknya, aturan Z-score hanya digunakan jika distribusi data adalah normal. Data yang masuk kriteria outliers dalam aturan Z-score adalah berada diatas mean + 3*Zscore dan dibawah mean -3*Zscore. Teknik yang saya pakai dalam Problem 2 ini adalah Tukey's rule, karena bentuk persebaran data adalah positive skewness (skewness>>0)."
      ],
      "metadata": {
        "id": "DvUeplQtHV3_"
      }
    }
  ]
}